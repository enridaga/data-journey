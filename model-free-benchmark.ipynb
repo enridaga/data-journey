{
 "cells": [
  {
   "cell_type": "code",
   "execution_count": null,
   "metadata": {
    "_cell_guid": "b1076dfc-b9ad-4769-8c92-a6c4dae69d19",
    "_uuid": "8f2839f25d086af736a60e9eeb907d3b93b6e0e5"
   },
   "outputs": [],
   "source": [
    "import pandas as pd\n",
    "import numpy as np"
   ]
  },
  {
   "cell_type": "code",
   "execution_count": null,
   "metadata": {
    "_cell_guid": "79c7e3d0-c299-4dcb-8224-4455121ee9b0",
    "_uuid": "d629ff2d2480ee46fbb7e2d37f6b5fab8052498a"
   },
   "outputs": [],
   "source": [
    "train = pd.read_csv(\"../input/nfl-big-data-bowl-2020/train.csv\")"
   ]
  },
  {
   "cell_type": "code",
   "execution_count": null,
   "metadata": {},
   "outputs": [],
   "source": [
    "train = train.drop_duplicates(subset=\"PlayId\")"
   ]
  },
  {
   "cell_type": "markdown",
   "metadata": {},
   "source": [
    "Checking out what the yardage cumulative distribution function looks like from all of our data"
   ]
  },
  {
   "cell_type": "code",
   "execution_count": null,
   "metadata": {},
   "outputs": [],
   "source": [
    "dist = train[\"Yards\"].hist(density = True, cumulative = True, bins = 200)"
   ]
  },
  {
   "cell_type": "markdown",
   "metadata": {},
   "source": [
    "We can split the dataset into times when in the opponent half and when in own half. This will help us a tiny bit in accurately plotting the distribution. More will be explained later"
   ]
  },
  {
   "cell_type": "code",
   "execution_count": null,
   "metadata": {},
   "outputs": [],
   "source": [
    "train_own = train[train[\"FieldPosition\"] == train[\"PossessionTeam\"]]\n",
    "train_other = train[train[\"FieldPosition\"] != train[\"PossessionTeam\"]]"
   ]
  },
  {
   "cell_type": "code",
   "execution_count": null,
   "metadata": {},
   "outputs": [],
   "source": [
    "import matplotlib.pyplot as plt\n",
    "own_cdf = np.histogram(train_own[\"Yards\"], bins=199,\n",
    "                 range=(-99,100), density=True)[0].cumsum()\n",
    "other_cdf = np.histogram(train_other[\"Yards\"], bins=199,\n",
    "                 range=(-99,100), density=True)[0].cumsum()"
   ]
  },
  {
   "cell_type": "markdown",
   "metadata": {},
   "source": [
    "You'll notice something very interesting when we print these two cdf's. When the rushing team is in their own half there is the possibility of them rushing all 100 yards of the field. But when they start a play from their opponents half they can only achieve a maximum of 50 yards on a play. This is reflected by the cdf maxing out at yard-50 and then being 1's for the rest of the yards. \n",
    "\n",
    "We can use these two different distributions and just apply them to all of the plays and it turns out this is a decent benchmark.\n",
    "\n",
    "We can extend this even further by knowing that when the ball is in the opponents half the yard line determines the maximum number of yards the rushing team can travel. "
   ]
  },
  {
   "cell_type": "markdown",
   "metadata": {},
   "source": [
    "cdf's for both are very similar. The difference between the two is negligble because 50+ yard rushes are extremely rare anyway"
   ]
  },
  {
   "cell_type": "code",
   "execution_count": null,
   "metadata": {},
   "outputs": [],
   "source": [
    "own_cdf"
   ]
  },
  {
   "cell_type": "code",
   "execution_count": null,
   "metadata": {},
   "outputs": [],
   "source": [
    "other_cdf"
   ]
  },
  {
   "cell_type": "code",
   "execution_count": null,
   "metadata": {},
   "outputs": [],
   "source": [
    "y_train = train[\"Yards\"].values"
   ]
  },
  {
   "cell_type": "code",
   "execution_count": null,
   "metadata": {},
   "outputs": [],
   "source": [
    "y_ans = np.zeros((len(train),199))\n",
    "\n",
    "for i,p in enumerate(y_train):\n",
    "    for j in range(199):\n",
    "        if j-99>=p:\n",
    "            y_ans[i][j]=1.0"
   ]
  },
  {
   "cell_type": "code",
   "execution_count": null,
   "metadata": {},
   "outputs": [],
   "source": [
    "print(\"validation score own half:\",np.sum(np.power(own_cdf-y_ans,2))/(199*(len(train))))\n",
    "print(\"validation score other half:\",np.sum(np.power(other_cdf-y_ans,2))/(199*(len(train))))"
   ]
  },
  {
   "cell_type": "markdown",
   "metadata": {},
   "source": [
    "We can see that our validation score is pretty good for both own half and other half distributions applied to the whole dataset. "
   ]
  },
  {
   "cell_type": "code",
   "execution_count": null,
   "metadata": {},
   "outputs": [],
   "source": [
    "import matplotlib.pyplot as plt\n",
    "plt.plot(own_cdf)\n",
    "plt.plot(other_cdf)"
   ]
  },
  {
   "cell_type": "code",
   "execution_count": null,
   "metadata": {},
   "outputs": [],
   "source": [
    "from kaggle.competitions import nflrush\n",
    "env = nflrush.make_env()\n",
    "for (test_df, sample_prediction_df) in env.iter_test():\n",
    "    if test_df[\"FieldPosition\"].iloc[0] != test_df[\"PossessionTeam\"].iloc[0]:\n",
    "        #when they are in the opponents half\n",
    "        cdf = np.copy(other_cdf)\n",
    "        cdf[-test_df[\"YardLine\"].iloc[0]:] = 1\n",
    "        sample_prediction_df.iloc[0, :] = cdf\n",
    "    else:\n",
    "        #when they are in their own half\n",
    "        cdf = np.copy(own_cdf)\n",
    "        cdf[-(100 - (test_df[\"YardLine\"].iloc[0] + 50)):] = 1\n",
    "        sample_prediction_df.iloc[0, :] = cdf\n",
    "    env.predict(sample_prediction_df)\n",
    "\n",
    "env.write_submission_file()"
   ]
  },
  {
   "cell_type": "code",
   "execution_count": null,
   "metadata": {},
   "outputs": [],
   "source": [
    "print(sample_prediction_df)"
   ]
  },
  {
   "cell_type": "code",
   "execution_count": null,
   "metadata": {},
   "outputs": [],
   "source": []
  }
 ],
 "metadata": {
  "kernelspec": {
   "display_name": "Python 3",
   "language": "python",
   "name": "python3"
  },
  "language_info": {
   "codemirror_mode": {
    "name": "ipython",
    "version": 3
   },
   "file_extension": ".py",
   "mimetype": "text/x-python",
   "name": "python",
   "nbconvert_exporter": "python",
   "pygments_lexer": "ipython3",
   "version": "3.8.5"
  }
 },
 "nbformat": 4,
 "nbformat_minor": 4
}
